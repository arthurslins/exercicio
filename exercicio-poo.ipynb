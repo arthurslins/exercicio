{
 "cells": [
  {
   "cell_type": "code",
   "execution_count": 1,
   "metadata": {},
   "outputs": [],
   "source": [
    "import sys\n",
    "import numpy as np\n",
    "from abc import ABC , abstractmethod"
   ]
  },
  {
   "cell_type": "code",
   "execution_count": 2,
   "metadata": {},
   "outputs": [],
   "source": [
    "class Usuario:\n",
    "    def __init__(self, id_usuario: str, idade, genero, ocupacao, cep):\n",
    "        self.id_usuario = id_usuario\n",
    "        self.idade = idade\n",
    "        self.genero = genero\n",
    "        self.ocupacao = ocupacao\n",
    "        self.cep = cep\n",
    "        self.avaliacoes = []\n",
    "\n",
    "    def adicionar_avaliacao(self, avaliacao):\n",
    "        self.avaliacoes.append(avaliacao)\n",
    "        # self.avaliacoes[avaliacao.filme.id_filme] = avaliacao\n",
    "\n",
    "    def avaliar_filme(self, filme, nota):\n",
    "        avaliacao = Avaliacao(self, filme, nota)\n",
    "        self.adicionar_avaliacao(avaliacao)\n",
    "        filme.adicionar_avaliacao(avaliacao)\n",
    "        # filme.avaliacoes.append(avaliacao)\n",
    "        # filme.avaliacoes[usuario.id_usuario] = avaliacao\n",
    "    \n",
    "    def as_numpy_array(self, tamanho):\n",
    "        vetor_usuario = np.zeros(tamanho)\n",
    "        for avaliacao in self.avaliacoes:\n",
    "            vetor_usuario[int(avaliacao.filme.id_filme)-1] = int(avaliacao.nota)\n",
    "\n",
    "        return vetor_usuario\n",
    "    \n",
    "    def similaridade(self, outro_usuario,tamanho, algoritmo_de_similaridade):\n",
    "        return algoritmo_de_similaridade.calcula(self, \n",
    "                                         outro_usuario)\n"
   ]
  },
  {
   "cell_type": "code",
   "execution_count": 3,
   "metadata": {},
   "outputs": [],
   "source": [
    "class Filme:\n",
    "    def __init__(self, id_filme, titulo, data_lancamento, url_imdb, generos):\n",
    "        self.id_filme = id_filme\n",
    "        self.titulo = titulo\n",
    "        self.data_lancamento = data_lancamento\n",
    "        self.url_imdb = url_imdb\n",
    "        self.generos = generos  # Lista de Genero\n",
    "        self.avaliacoes = []\n",
    "\n",
    "    def adicionar_avaliacao(self, avaliacao):\n",
    "        self.avaliacoes.append(avaliacao)"
   ]
  },
  {
   "cell_type": "code",
   "execution_count": 4,
   "metadata": {},
   "outputs": [],
   "source": [
    "class Genero:\n",
    "    def __init__(self, id_genero, nome):\n",
    "        self.id_genero = id_genero\n",
    "        self.nome = nome"
   ]
  },
  {
   "cell_type": "code",
   "execution_count": 5,
   "metadata": {},
   "outputs": [],
   "source": [
    "class Avaliacao:\n",
    "    def __init__(self, usuario, filme, nota):\n",
    "        self.usuario = usuario\n",
    "        self.filme = filme\n",
    "        self.nota = nota"
   ]
  },
  {
   "cell_type": "code",
   "execution_count": 6,
   "metadata": {},
   "outputs": [],
   "source": [
    "class SistemaDeRecomendacao:\n",
    "    def __init__(self):\n",
    "        self.usuarios = dict()  # self.usuarios['1']\n",
    "        self.filmes = dict()\n",
    "        self.generos = dict()\n",
    "\n",
    "    def carregar_do_diretorio(self, diretorio):\n",
    "        self.carregar_usuarios_do_arquivo(f\"{diretorio}/u.user\")\n",
    "        self.carregar_generos_do_arquivo(f\"{diretorio}/u.genre\")\n",
    "        self.carregar_filmes_do_arquivo(f\"{diretorio}/u.item\")\n",
    "        self.carregar_avaliacoes_do_arquivo(f\"{diretorio}/u.data\")\n",
    "\n",
    "    def carregar_usuarios_do_arquivo(self, localizacao_arquivo):\n",
    "        try:\n",
    "            arquivo = open(localizacao_arquivo, 'r')\n",
    "            for linha in arquivo:\n",
    "                campos = linha.split(\"|\")\n",
    "                usuario = Usuario(\n",
    "                    campos[0], campos[1], campos[2], campos[3], campos[4]\n",
    "                )\n",
    "                # self.usuarios.append(usuario)\n",
    "                self.usuarios[usuario.id_usuario] = usuario\n",
    "        except Exception as e:\n",
    "            print(e)\n",
    "            sys.exit(1)\n",
    "\n",
    "    def carregar_generos_do_arquivo(self, localizacao_arquivo):\n",
    "        try:\n",
    "            arquivo = open(localizacao_arquivo, 'r')\n",
    "            for linha in arquivo:\n",
    "                campos = linha.split(\"|\")\n",
    "                # Assume que não existe linha em branco no fim do arquivo\n",
    "                genero = Genero(id_genero=campos[1].rstrip(), nome=campos[0])\n",
    "                # self.generos.append(genero)\n",
    "                self.generos[genero.id_genero] = genero\n",
    "        except Exception as e:\n",
    "            print(e)\n",
    "            sys.exit(1)\n",
    "\n",
    "    def carregar_filmes_do_arquivo(self, localizacao_arquivo):\n",
    "        try:\n",
    "            arquivo = open(localizacao_arquivo, 'r', encoding='iso-8859-1')\n",
    "            for linha in arquivo:\n",
    "                campos = linha.split(\"|\")\n",
    "                generos = []\n",
    "                campos_generos = campos[5:-1]\n",
    "                # Carrega Genero baseado na posição no Slice campos[5:-1]\n",
    "                for i in range(len(campos_generos)):\n",
    "                    if campos_generos[i] == \"1\":\n",
    "                        generos.append(self.generos[str(i)])\n",
    "\n",
    "                filme = Filme(\n",
    "                    campos[0], campos[1], campos[2], campos[4], generos\n",
    "                )\n",
    "                self.filmes[filme.id_filme] = filme\n",
    "\n",
    "        except Exception as e:\n",
    "            print(e)\n",
    "            sys.exit(1)\n",
    "\n",
    "    def carregar_avaliacoes_do_arquivo(self, localizacao_arquivo):\n",
    "        try:\n",
    "            arquivo = open(localizacao_arquivo, 'r')\n",
    "            for linha in arquivo:\n",
    "                campos = linha.split(\"\\t\")\n",
    "                usuario = self.usuarios[campos[0]]\n",
    "                filme = self.filmes[campos[1]]\n",
    "                nota = int(campos[2])\n",
    "                usuario.avaliar_filme(filme, nota)\n",
    "\n",
    "        except Exception as e:\n",
    "            print(e)\n",
    "            sys.exit(1)\n"
   ]
  },
  {
   "cell_type": "code",
   "execution_count": 7,
   "metadata": {},
   "outputs": [],
   "source": [
    "class AlgoritimoSimilaridade(SistemaDeRecomendacao):\n",
    "    def __init__(self):\n",
    "        super().__init__()\n",
    "    \n",
    "    \n",
    "\n",
    "            \n",
    "        \n",
    "        \n",
    "        \n",
    "    @abstractmethod\n",
    "    def calcula(self):\n",
    "        pass"
   ]
  },
  {
   "cell_type": "code",
   "execution_count": 13,
   "metadata": {},
   "outputs": [],
   "source": [
    "class SimilaridadeCosseno(AlgoritimoSimilaridade):\n",
    "    def __init__(self):\n",
    "        super().__init__()\n",
    "        \n",
    "    def calcula(self, usuario_ref, outro_usuario):\n",
    "        print(usuario_ref.id_usuario)\n",
    "        print(str(outro_usuario.id_usuario))\n",
    "        self.vetor_usuario_referencia = self.usuarios[usuario_ref.id_usuario].as_numpy_array(len(self.filmes))\n",
    "        self.vetor_outro_usuario=sr.usuarios[outro_usuario.id_usuario].as_numpy_array(len(self.filmes))\n",
    "        similaridade = np.dot(self.vetor_usuario_referencia,self.vetor_outro_usuario)/(np.sqrt(sum(self.vetor_usuario_referencia**2))*np.sqrt(sum(self.vetor_outro_usuario**2)))\n",
    "        return similaridade"
   ]
  },
  {
   "cell_type": "code",
   "execution_count": 14,
   "metadata": {},
   "outputs": [],
   "source": [
    "class SimilaridadePearson(AlgoritimoSimilaridade):\n",
    "    def __init__(self):\n",
    "        super().__init__()\n",
    "\n",
    "    def calcula(self,usuario_ref, outro_usuario):\n",
    "        self.vetor_usuario_referencia = self.usuarios[self.id_usuario].as_numpy_array(len(self.filmes))\n",
    "        self.vetor_outro_usuario=sr.usuarios[outro_usuario.id_usuario].as_numpy_array(len(self.filmes))\n",
    "        \n",
    "        self.media_vetor_usuario_referencia= np.average(self.vetor_usuario_referencia)\n",
    "        self.media_vetor_outro_usuario = np.average(self.vetor_outro_usuario)\n",
    "\n",
    "        a = np.sum(self.vetor_usuario_referencia- self.media_vetor_usuario_referencia) * np.sum(self.vetor_outro_usuario) - self.media_vetor_outro_usuario\n",
    "        b = np.sqrt(sum(self.vetor_usuario_referencia - self.vetor_usuario_referencia)**2) * np.sqrt(sum(self.vetor_outro_usuario) - self.media_vetor_outro_usuario)**2\n",
    "        p= a/b\n",
    "        return p"
   ]
  },
  {
   "cell_type": "code",
   "execution_count": 15,
   "metadata": {},
   "outputs": [],
   "source": [
    "sr = SistemaDeRecomendacao()\n",
    "#sr= SimilaridadeCosseno()\n",
    "sr.carregar_do_diretorio(\"ml-100k\")"
   ]
  },
  {
   "cell_type": "code",
   "execution_count": 16,
   "metadata": {},
   "outputs": [],
   "source": [
    "sim_cos = SimilaridadeCosseno()"
   ]
  },
  {
   "cell_type": "code",
   "execution_count": 17,
   "metadata": {},
   "outputs": [
    {
     "name": "stdout",
     "output_type": "stream",
     "text": [
      "100\n",
      "10\n"
     ]
    },
    {
     "ename": "KeyError",
     "evalue": "'100'",
     "output_type": "error",
     "traceback": [
      "\u001b[0;31m---------------------------------------------------------------------------\u001b[0m",
      "\u001b[0;31mKeyError\u001b[0m                                  Traceback (most recent call last)",
      "\u001b[0;32m<ipython-input-17-94589e511723>\u001b[0m in \u001b[0;36m<module>\u001b[0;34m\u001b[0m\n\u001b[0;32m----> 1\u001b[0;31m \u001b[0msr\u001b[0m\u001b[0;34m.\u001b[0m\u001b[0musuarios\u001b[0m\u001b[0;34m[\u001b[0m\u001b[0;34m\"100\"\u001b[0m\u001b[0;34m]\u001b[0m\u001b[0;34m.\u001b[0m\u001b[0msimilaridade\u001b[0m\u001b[0;34m(\u001b[0m\u001b[0msr\u001b[0m\u001b[0;34m.\u001b[0m\u001b[0musuarios\u001b[0m\u001b[0;34m[\u001b[0m\u001b[0;34m\"10\"\u001b[0m\u001b[0;34m]\u001b[0m\u001b[0;34m,\u001b[0m\u001b[0mlen\u001b[0m\u001b[0;34m(\u001b[0m\u001b[0msr\u001b[0m\u001b[0;34m.\u001b[0m\u001b[0mfilmes\u001b[0m\u001b[0;34m)\u001b[0m\u001b[0;34m,\u001b[0m\u001b[0msim_cos\u001b[0m\u001b[0;34m)\u001b[0m\u001b[0;34m\u001b[0m\u001b[0;34m\u001b[0m\u001b[0m\n\u001b[0m",
      "\u001b[0;32m<ipython-input-2-a773f85fc0d8>\u001b[0m in \u001b[0;36msimilaridade\u001b[0;34m(self, outro_usuario, tamanho, algoritmo_de_similaridade)\u001b[0m\n\u001b[1;32m     27\u001b[0m \u001b[0;34m\u001b[0m\u001b[0m\n\u001b[1;32m     28\u001b[0m     \u001b[0;32mdef\u001b[0m \u001b[0msimilaridade\u001b[0m\u001b[0;34m(\u001b[0m\u001b[0mself\u001b[0m\u001b[0;34m,\u001b[0m \u001b[0moutro_usuario\u001b[0m\u001b[0;34m,\u001b[0m\u001b[0mtamanho\u001b[0m\u001b[0;34m,\u001b[0m \u001b[0malgoritmo_de_similaridade\u001b[0m\u001b[0;34m)\u001b[0m\u001b[0;34m:\u001b[0m\u001b[0;34m\u001b[0m\u001b[0;34m\u001b[0m\u001b[0m\n\u001b[0;32m---> 29\u001b[0;31m         return algoritmo_de_similaridade.calcula(self, \n\u001b[0m\u001b[1;32m     30\u001b[0m                                          outro_usuario)\n",
      "\u001b[0;32m<ipython-input-13-82da97af6a7c>\u001b[0m in \u001b[0;36mcalcula\u001b[0;34m(self, usuario_ref, outro_usuario)\u001b[0m\n\u001b[1;32m      6\u001b[0m         \u001b[0mprint\u001b[0m\u001b[0;34m(\u001b[0m\u001b[0musuario_ref\u001b[0m\u001b[0;34m.\u001b[0m\u001b[0mid_usuario\u001b[0m\u001b[0;34m)\u001b[0m\u001b[0;34m\u001b[0m\u001b[0;34m\u001b[0m\u001b[0m\n\u001b[1;32m      7\u001b[0m         \u001b[0mprint\u001b[0m\u001b[0;34m(\u001b[0m\u001b[0mstr\u001b[0m\u001b[0;34m(\u001b[0m\u001b[0moutro_usuario\u001b[0m\u001b[0;34m.\u001b[0m\u001b[0mid_usuario\u001b[0m\u001b[0;34m)\u001b[0m\u001b[0;34m)\u001b[0m\u001b[0;34m\u001b[0m\u001b[0;34m\u001b[0m\u001b[0m\n\u001b[0;32m----> 8\u001b[0;31m         \u001b[0mself\u001b[0m\u001b[0;34m.\u001b[0m\u001b[0mvetor_usuario_referencia\u001b[0m \u001b[0;34m=\u001b[0m \u001b[0mself\u001b[0m\u001b[0;34m.\u001b[0m\u001b[0musuarios\u001b[0m\u001b[0;34m[\u001b[0m\u001b[0musuario_ref\u001b[0m\u001b[0;34m.\u001b[0m\u001b[0mid_usuario\u001b[0m\u001b[0;34m]\u001b[0m\u001b[0;34m.\u001b[0m\u001b[0mas_numpy_array\u001b[0m\u001b[0;34m(\u001b[0m\u001b[0mlen\u001b[0m\u001b[0;34m(\u001b[0m\u001b[0mself\u001b[0m\u001b[0;34m.\u001b[0m\u001b[0mfilmes\u001b[0m\u001b[0;34m)\u001b[0m\u001b[0;34m)\u001b[0m\u001b[0;34m\u001b[0m\u001b[0;34m\u001b[0m\u001b[0m\n\u001b[0m\u001b[1;32m      9\u001b[0m         \u001b[0mself\u001b[0m\u001b[0;34m.\u001b[0m\u001b[0mvetor_outro_usuario\u001b[0m\u001b[0;34m=\u001b[0m\u001b[0msr\u001b[0m\u001b[0;34m.\u001b[0m\u001b[0musuarios\u001b[0m\u001b[0;34m[\u001b[0m\u001b[0moutro_usuario\u001b[0m\u001b[0;34m.\u001b[0m\u001b[0mid_usuario\u001b[0m\u001b[0;34m]\u001b[0m\u001b[0;34m.\u001b[0m\u001b[0mas_numpy_array\u001b[0m\u001b[0;34m(\u001b[0m\u001b[0mlen\u001b[0m\u001b[0;34m(\u001b[0m\u001b[0mself\u001b[0m\u001b[0;34m.\u001b[0m\u001b[0mfilmes\u001b[0m\u001b[0;34m)\u001b[0m\u001b[0;34m)\u001b[0m\u001b[0;34m\u001b[0m\u001b[0;34m\u001b[0m\u001b[0m\n\u001b[1;32m     10\u001b[0m         \u001b[0msimilaridade\u001b[0m \u001b[0;34m=\u001b[0m \u001b[0mnp\u001b[0m\u001b[0;34m.\u001b[0m\u001b[0mdot\u001b[0m\u001b[0;34m(\u001b[0m\u001b[0mself\u001b[0m\u001b[0;34m.\u001b[0m\u001b[0mvetor_usuario_referencia\u001b[0m\u001b[0;34m,\u001b[0m\u001b[0mself\u001b[0m\u001b[0;34m.\u001b[0m\u001b[0mvetor_outro_usuario\u001b[0m\u001b[0;34m)\u001b[0m\u001b[0;34m/\u001b[0m\u001b[0;34m(\u001b[0m\u001b[0mnp\u001b[0m\u001b[0;34m.\u001b[0m\u001b[0msqrt\u001b[0m\u001b[0;34m(\u001b[0m\u001b[0msum\u001b[0m\u001b[0;34m(\u001b[0m\u001b[0mself\u001b[0m\u001b[0;34m.\u001b[0m\u001b[0mvetor_usuario_referencia\u001b[0m\u001b[0;34m**\u001b[0m\u001b[0;36m2\u001b[0m\u001b[0;34m)\u001b[0m\u001b[0;34m)\u001b[0m\u001b[0;34m*\u001b[0m\u001b[0mnp\u001b[0m\u001b[0;34m.\u001b[0m\u001b[0msqrt\u001b[0m\u001b[0;34m(\u001b[0m\u001b[0msum\u001b[0m\u001b[0;34m(\u001b[0m\u001b[0mself\u001b[0m\u001b[0;34m.\u001b[0m\u001b[0mvetor_outro_usuario\u001b[0m\u001b[0;34m**\u001b[0m\u001b[0;36m2\u001b[0m\u001b[0;34m)\u001b[0m\u001b[0;34m)\u001b[0m\u001b[0;34m)\u001b[0m\u001b[0;34m\u001b[0m\u001b[0;34m\u001b[0m\u001b[0m\n",
      "\u001b[0;31mKeyError\u001b[0m: '100'"
     ]
    }
   ],
   "source": [
    "sr.usuarios[\"100\"].similaridade(sr.usuarios[\"10\"],len(sr.filmes),sim_cos)"
   ]
  },
  {
   "cell_type": "code",
   "execution_count": null,
   "metadata": {},
   "outputs": [],
   "source": []
  },
  {
   "cell_type": "code",
   "execution_count": null,
   "metadata": {},
   "outputs": [],
   "source": []
  }
 ],
 "metadata": {
  "kernelspec": {
   "display_name": "Python 3",
   "language": "python",
   "name": "python3"
  },
  "language_info": {
   "codemirror_mode": {
    "name": "ipython",
    "version": 3
   },
   "file_extension": ".py",
   "mimetype": "text/x-python",
   "name": "python",
   "nbconvert_exporter": "python",
   "pygments_lexer": "ipython3",
   "version": "3.8.5"
  }
 },
 "nbformat": 4,
 "nbformat_minor": 4
}
